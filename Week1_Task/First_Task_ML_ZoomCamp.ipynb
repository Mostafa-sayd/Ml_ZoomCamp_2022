{
 "cells": [
  {
   "cell_type": "code",
   "execution_count": 1,
   "id": "c7353037",
   "metadata": {},
   "outputs": [
    {
     "data": {
      "text/plain": [
       "'1.23.2'"
      ]
     },
     "execution_count": 1,
     "metadata": {},
     "output_type": "execute_result"
    }
   ],
   "source": [
    "import numpy as np\n",
    "np.__version__"
   ]
  },
  {
   "cell_type": "code",
   "execution_count": 41,
   "id": "33296fcf",
   "metadata": {},
   "outputs": [],
   "source": [
    "import pandas as pd\n",
    "import matplotlib.pyplot as plt\n",
    "import seaborn as sns\n",
    "%matplotlib inline\n",
    "sns.set()"
   ]
  },
  {
   "cell_type": "code",
   "execution_count": 111,
   "id": "0f5c59b2",
   "metadata": {},
   "outputs": [],
   "source": [
    "df = pd.read_csv('data.csv')"
   ]
  },
  {
   "cell_type": "code",
   "execution_count": 112,
   "id": "fd9c3ea3",
   "metadata": {},
   "outputs": [
    {
     "data": {
      "text/html": [
       "<div>\n",
       "<style scoped>\n",
       "    .dataframe tbody tr th:only-of-type {\n",
       "        vertical-align: middle;\n",
       "    }\n",
       "\n",
       "    .dataframe tbody tr th {\n",
       "        vertical-align: top;\n",
       "    }\n",
       "\n",
       "    .dataframe thead th {\n",
       "        text-align: right;\n",
       "    }\n",
       "</style>\n",
       "<table border=\"1\" class=\"dataframe\">\n",
       "  <thead>\n",
       "    <tr style=\"text-align: right;\">\n",
       "      <th></th>\n",
       "      <th>Make</th>\n",
       "      <th>Model</th>\n",
       "      <th>Year</th>\n",
       "      <th>Engine Fuel Type</th>\n",
       "      <th>Engine HP</th>\n",
       "      <th>Engine Cylinders</th>\n",
       "      <th>Transmission Type</th>\n",
       "      <th>Driven_Wheels</th>\n",
       "      <th>Number of Doors</th>\n",
       "      <th>Market Category</th>\n",
       "      <th>Vehicle Size</th>\n",
       "      <th>Vehicle Style</th>\n",
       "      <th>highway MPG</th>\n",
       "      <th>city mpg</th>\n",
       "      <th>Popularity</th>\n",
       "      <th>MSRP</th>\n",
       "    </tr>\n",
       "  </thead>\n",
       "  <tbody>\n",
       "    <tr>\n",
       "      <th>0</th>\n",
       "      <td>BMW</td>\n",
       "      <td>1 Series M</td>\n",
       "      <td>2011</td>\n",
       "      <td>premium unleaded (required)</td>\n",
       "      <td>335.0</td>\n",
       "      <td>6.0</td>\n",
       "      <td>MANUAL</td>\n",
       "      <td>rear wheel drive</td>\n",
       "      <td>2.0</td>\n",
       "      <td>Factory Tuner,Luxury,High-Performance</td>\n",
       "      <td>Compact</td>\n",
       "      <td>Coupe</td>\n",
       "      <td>26</td>\n",
       "      <td>19</td>\n",
       "      <td>3916</td>\n",
       "      <td>46135</td>\n",
       "    </tr>\n",
       "    <tr>\n",
       "      <th>1</th>\n",
       "      <td>BMW</td>\n",
       "      <td>1 Series</td>\n",
       "      <td>2011</td>\n",
       "      <td>premium unleaded (required)</td>\n",
       "      <td>300.0</td>\n",
       "      <td>6.0</td>\n",
       "      <td>MANUAL</td>\n",
       "      <td>rear wheel drive</td>\n",
       "      <td>2.0</td>\n",
       "      <td>Luxury,Performance</td>\n",
       "      <td>Compact</td>\n",
       "      <td>Convertible</td>\n",
       "      <td>28</td>\n",
       "      <td>19</td>\n",
       "      <td>3916</td>\n",
       "      <td>40650</td>\n",
       "    </tr>\n",
       "    <tr>\n",
       "      <th>2</th>\n",
       "      <td>BMW</td>\n",
       "      <td>1 Series</td>\n",
       "      <td>2011</td>\n",
       "      <td>premium unleaded (required)</td>\n",
       "      <td>300.0</td>\n",
       "      <td>6.0</td>\n",
       "      <td>MANUAL</td>\n",
       "      <td>rear wheel drive</td>\n",
       "      <td>2.0</td>\n",
       "      <td>Luxury,High-Performance</td>\n",
       "      <td>Compact</td>\n",
       "      <td>Coupe</td>\n",
       "      <td>28</td>\n",
       "      <td>20</td>\n",
       "      <td>3916</td>\n",
       "      <td>36350</td>\n",
       "    </tr>\n",
       "    <tr>\n",
       "      <th>3</th>\n",
       "      <td>BMW</td>\n",
       "      <td>1 Series</td>\n",
       "      <td>2011</td>\n",
       "      <td>premium unleaded (required)</td>\n",
       "      <td>230.0</td>\n",
       "      <td>6.0</td>\n",
       "      <td>MANUAL</td>\n",
       "      <td>rear wheel drive</td>\n",
       "      <td>2.0</td>\n",
       "      <td>Luxury,Performance</td>\n",
       "      <td>Compact</td>\n",
       "      <td>Coupe</td>\n",
       "      <td>28</td>\n",
       "      <td>18</td>\n",
       "      <td>3916</td>\n",
       "      <td>29450</td>\n",
       "    </tr>\n",
       "    <tr>\n",
       "      <th>4</th>\n",
       "      <td>BMW</td>\n",
       "      <td>1 Series</td>\n",
       "      <td>2011</td>\n",
       "      <td>premium unleaded (required)</td>\n",
       "      <td>230.0</td>\n",
       "      <td>6.0</td>\n",
       "      <td>MANUAL</td>\n",
       "      <td>rear wheel drive</td>\n",
       "      <td>2.0</td>\n",
       "      <td>Luxury</td>\n",
       "      <td>Compact</td>\n",
       "      <td>Convertible</td>\n",
       "      <td>28</td>\n",
       "      <td>18</td>\n",
       "      <td>3916</td>\n",
       "      <td>34500</td>\n",
       "    </tr>\n",
       "  </tbody>\n",
       "</table>\n",
       "</div>"
      ],
      "text/plain": [
       "  Make       Model  Year             Engine Fuel Type  Engine HP  \\\n",
       "0  BMW  1 Series M  2011  premium unleaded (required)      335.0   \n",
       "1  BMW    1 Series  2011  premium unleaded (required)      300.0   \n",
       "2  BMW    1 Series  2011  premium unleaded (required)      300.0   \n",
       "3  BMW    1 Series  2011  premium unleaded (required)      230.0   \n",
       "4  BMW    1 Series  2011  premium unleaded (required)      230.0   \n",
       "\n",
       "   Engine Cylinders Transmission Type     Driven_Wheels  Number of Doors  \\\n",
       "0               6.0            MANUAL  rear wheel drive              2.0   \n",
       "1               6.0            MANUAL  rear wheel drive              2.0   \n",
       "2               6.0            MANUAL  rear wheel drive              2.0   \n",
       "3               6.0            MANUAL  rear wheel drive              2.0   \n",
       "4               6.0            MANUAL  rear wheel drive              2.0   \n",
       "\n",
       "                         Market Category Vehicle Size Vehicle Style  \\\n",
       "0  Factory Tuner,Luxury,High-Performance      Compact         Coupe   \n",
       "1                     Luxury,Performance      Compact   Convertible   \n",
       "2                Luxury,High-Performance      Compact         Coupe   \n",
       "3                     Luxury,Performance      Compact         Coupe   \n",
       "4                                 Luxury      Compact   Convertible   \n",
       "\n",
       "   highway MPG  city mpg  Popularity   MSRP  \n",
       "0           26        19        3916  46135  \n",
       "1           28        19        3916  40650  \n",
       "2           28        20        3916  36350  \n",
       "3           28        18        3916  29450  \n",
       "4           28        18        3916  34500  "
      ]
     },
     "execution_count": 112,
     "metadata": {},
     "output_type": "execute_result"
    }
   ],
   "source": [
    "df.head()"
   ]
  },
  {
   "cell_type": "code",
   "execution_count": 113,
   "id": "cabd9d8b",
   "metadata": {},
   "outputs": [
    {
     "data": {
      "text/plain": [
       "(11914, 16)"
      ]
     },
     "execution_count": 113,
     "metadata": {},
     "output_type": "execute_result"
    }
   ],
   "source": [
    "df.shape"
   ]
  },
  {
   "cell_type": "code",
   "execution_count": 157,
   "id": "a74186e0",
   "metadata": {},
   "outputs": [
    {
     "data": {
      "text/plain": [
       "Chevrolet     1123\n",
       "Ford           881\n",
       "Volkswagen     809\n",
       "Toyota         746\n",
       "Dodge          626\n",
       "Name: Make, dtype: int64"
      ]
     },
     "execution_count": 157,
     "metadata": {},
     "output_type": "execute_result"
    }
   ],
   "source": [
    "df['Make'].value_counts().head()"
   ]
  },
  {
   "cell_type": "code",
   "execution_count": 114,
   "id": "25dd6bab",
   "metadata": {},
   "outputs": [
    {
     "data": {
      "text/plain": [
       "Make                    0\n",
       "Model                   0\n",
       "Year                    0\n",
       "Engine Fuel Type        3\n",
       "Engine HP              69\n",
       "Engine Cylinders       30\n",
       "Transmission Type       0\n",
       "Driven_Wheels           0\n",
       "Number of Doors         6\n",
       "Market Category      3742\n",
       "Vehicle Size            0\n",
       "Vehicle Style           0\n",
       "highway MPG             0\n",
       "city mpg                0\n",
       "Popularity              0\n",
       "MSRP                    0\n",
       "dtype: int64"
      ]
     },
     "execution_count": 114,
     "metadata": {},
     "output_type": "execute_result"
    }
   ],
   "source": [
    "df.isna().sum()"
   ]
  },
  {
   "cell_type": "code",
   "execution_count": 115,
   "id": "3403657d",
   "metadata": {},
   "outputs": [],
   "source": [
    "missing = df.isnull().sum()\n",
    "mask = missing[missing > 0]"
   ]
  },
  {
   "cell_type": "code",
   "execution_count": 116,
   "id": "542a0e49",
   "metadata": {},
   "outputs": [
    {
     "data": {
      "text/plain": [
       "Engine Fuel Type       3\n",
       "Engine HP             69\n",
       "Engine Cylinders      30\n",
       "Number of Doors        6\n",
       "Market Category     3742\n",
       "dtype: int64"
      ]
     },
     "execution_count": 116,
     "metadata": {},
     "output_type": "execute_result"
    }
   ],
   "source": [
    "mask"
   ]
  },
  {
   "cell_type": "code",
   "execution_count": 117,
   "id": "ed8c31c7",
   "metadata": {},
   "outputs": [],
   "source": [
    "mask.sort_values(inplace= True)"
   ]
  },
  {
   "cell_type": "code",
   "execution_count": 118,
   "id": "e0536605",
   "metadata": {},
   "outputs": [
    {
     "data": {
      "image/png": "[encoded data removed]",
      "text/plain": [
       "<Figure size 1080x576 with 1 Axes>"
      ]
     },
     "metadata": {},
     "output_type": "display_data"
    },
    {
     "data": {
      "text/plain": [
       "<Figure size 1080x576 with 0 Axes>"
      ]
     },
     "metadata": {},
     "output_type": "display_data"
    }
   ],
   "source": [
    "mask.plot.bar()\n",
    "plt.figure(figsize= (15, 8))\n",
    "plt.show()"
   ]
  },
  {
   "cell_type": "code",
   "execution_count": 52,
   "id": "178d8583",
   "metadata": {},
   "outputs": [
    {
     "name": "stderr",
     "output_type": "stream",
     "text": [
      "C:\\Users\\LENOVO\\anaconda3\\envs\\Ai_Dream\\lib\\site-packages\\seaborn\\distributions.py:2619: FutureWarning: `distplot` is a deprecated function and will be removed in a future version. Please adapt your code to use either `displot` (a figure-level function with similar flexibility) or `histplot` (an axes-level function for histograms).\n",
      "  warnings.warn(msg, FutureWarning)\n"
     ]
    },
    {
     "data": {
      "text/plain": [
       "<AxesSubplot:xlabel='MSRP'>"
      ]
     },
     "execution_count": 52,
     "metadata": {},
     "output_type": "execute_result"
    },
    {
     "data": {
      "image/png": "[encoded data removed]",
      "text/plain": [
       "<Figure size 1080x576 with 1 Axes>"
      ]
     },
     "metadata": {},
     "output_type": "display_data"
    }
   ],
   "source": [
    "sns.set(rc= {'figure.figsize' : (15, 8)})\n",
    "sns.distplot(df['MSRP'], kde= False, bins= 50)"
   ]
  },
  {
   "cell_type": "code",
   "execution_count": 53,
   "id": "80847b15",
   "metadata": {},
   "outputs": [
    {
     "data": {
      "text/plain": [
       "<AxesSubplot:xlabel='MSRP', ylabel='Density'>"
      ]
     },
     "execution_count": 53,
     "metadata": {},
     "output_type": "execute_result"
    },
    {
     "data": {
      "image/png": "[encoded data removed]",
      "text/plain": [
       "<Figure size 1080x576 with 1 Axes>"
      ]
     },
     "metadata": {},
     "output_type": "display_data"
    }
   ],
   "source": [
    "sns.kdeplot(df['MSRP'])"
   ]
  },
  {
   "cell_type": "code",
   "execution_count": 54,
   "id": "8e9b6a20",
   "metadata": {},
   "outputs": [
    {
     "data": {
      "text/plain": [
       "count    1.191400e+04\n",
       "mean     4.059474e+04\n",
       "std      6.010910e+04\n",
       "min      2.000000e+03\n",
       "25%      2.100000e+04\n",
       "50%      2.999500e+04\n",
       "75%      4.223125e+04\n",
       "max      2.065902e+06\n",
       "Name: MSRP, dtype: float64"
      ]
     },
     "execution_count": 54,
     "metadata": {},
     "output_type": "execute_result"
    }
   ],
   "source": [
    "df['MSRP'].describe()"
   ]
  },
  {
   "cell_type": "code",
   "execution_count": 56,
   "id": "eebb4278",
   "metadata": {},
   "outputs": [
    {
     "data": {
      "text/plain": [
       "array(['1 Series M', '1 Series', '100', '124 Spider', '190-Class',\n",
       "       '2 Series', '200', '200SX', '240SX', '240', '2',\n",
       "       '3 Series Gran Turismo', '3 Series', '300-Class', '3000GT', '300',\n",
       "       '300M', '300ZX', '323', '350-Class', '350Z', '360', '370Z', '3',\n",
       "       '4 Series Gran Coupe', '4 Series', '400-Class', '420-Class',\n",
       "       '456M', '458 Italia', '4C', '4Runner', '5 Series Gran Turismo',\n",
       "       '5 Series', '500-Class', '500e', '500', '500L', '500X', '550',\n",
       "       '560-Class', '570S', '575M', '57', '599', '5',\n",
       "       '6 Series Gran Coupe', '6 Series', '600-Class', '6000',\n",
       "       '612 Scaglietti', '626', '62', '650S Coupe', '650S Spider', '6',\n",
       "       '7 Series', '718 Cayman', '740', '760', '780', '8 Series', '80',\n",
       "       '850', '86', '9-2X', '9-3 Griffin', '9-3', '9-4X', '9-5', '9-7X',\n",
       "       '9000', '900', '90', '911', '928', '929', '940', '944', '960',\n",
       "       '968', 'A3', 'A4 allroad', 'A4', 'A5', 'A6', 'A7', 'A8',\n",
       "       'Acadia Limited', 'Acadia', 'Accent', 'Acclaim',\n",
       "       'Accord Crosstour', 'Accord Hybrid', 'Accord Plug-In Hybrid',\n",
       "       'Accord', 'Achieva', 'ActiveHybrid 5', 'ActiveHybrid 7',\n",
       "       'ActiveHybrid X6', 'Aerio', 'Aerostar', 'Alero', 'Allante',\n",
       "       'allroad quattro', 'allroad', 'ALPINA B6 Gran Coupe', 'ALPINA B7',\n",
       "       'Alpina', 'Altima Hybrid', 'Altima', 'Amanti', 'AMG GT', 'Armada',\n",
       "       'Arnage', 'Aspen', 'Aspire', 'Astro Cargo', 'Astro', 'ATS Coupe',\n",
       "       'ATS-V', 'ATS', 'Aurora', 'Avalanche', 'Avalon Hybrid', 'Avalon',\n",
       "       'Avenger', 'Aventador', 'Aveo', 'Aviator', 'Axxess', 'Azera',\n",
       "       'Aztek', 'Azure T', 'Azure', 'B-Class Electric Drive',\n",
       "       'B-Series Pickup', 'B-Series Truck', 'B-Series', 'B9 Tribeca',\n",
       "       'Baja', 'Beetle Convertible', 'Beetle', 'Beretta',\n",
       "       'Black Diamond Avalanche', 'Blackwood', 'Blazer', 'Bolt EV',\n",
       "       'Bonneville', 'Borrego', 'Boxster', 'Bravada', 'Breeze',\n",
       "       'Bronco II', 'Bronco', 'Brooklands', 'Brougham', 'BRZ', 'C-Class',\n",
       "       'C-Max Hybrid', 'C30', 'C36 AMG', 'C43 AMG', 'C70', 'C8',\n",
       "       'Cabriolet', 'Cabrio', 'Cadenza', 'Caliber', 'California T',\n",
       "       'California', 'Camaro', 'Camry Hybrid', 'Camry Solara', 'Camry',\n",
       "       'Canyon', 'Caprice', 'Captiva Sport', 'Caravan', 'Carrera GT',\n",
       "       'Cascada', 'Catera', 'Cavalier', 'Cayenne', 'Cayman S', 'Cayman',\n",
       "       'CC', 'Celebrity', 'Celica', 'Century', 'Challenger', 'Charger',\n",
       "       'Chevy Van', 'Ciera', 'Cirrus', 'City Express', 'Civic CRX',\n",
       "       'Civic del Sol', 'Civic', 'C/K 1500 Series', 'C/K 2500 Series',\n",
       "       'CL-Class', 'CLA-Class', 'CL', 'Classic', 'CLK-Class', 'CLS-Class',\n",
       "       'Cobalt', 'Colorado', 'Colt', 'Concorde',\n",
       "       'Continental Flying Spur Speed', 'Continental Flying Spur',\n",
       "       'Continental GT Speed Convertible', 'Continental GT Speed',\n",
       "       'Continental GT3-R', 'Continental GT', 'Continental GTC Speed',\n",
       "       'Continental GTC', 'Continental Supersports Convertible',\n",
       "       'Continental Supersports', 'Continental', 'Contour SVT', 'Contour',\n",
       "       'Corniche', 'Corolla iM', 'Corolla', 'Corrado', 'Corsica',\n",
       "       'Corvette Stingray', 'Corvette', 'Coupe', 'CR-V', 'CR-Z',\n",
       "       'Cressida', 'Crossfire', 'Crosstour', 'Crosstrek',\n",
       "       'Crown Victoria', 'Cruze Limited', 'Cruze', 'CT 200h', 'CT6',\n",
       "       'CTS Coupe', 'CTS-V Coupe', 'CTS-V Wagon', 'CTS-V', 'CTS Wagon',\n",
       "       'CTS', 'Cube', 'Custom Cruiser', 'Cutlass Calais', 'Cutlass Ciera',\n",
       "       'Cutlass Supreme', 'Cutlass', 'CX-3', 'CX-5', 'CX-7', 'CX-9',\n",
       "       'Dakota', 'Dart', 'Dawn', 'Daytona', 'DB7', 'DB9 GT', 'DB9', 'DBS',\n",
       "       'Defender', 'DeVille', 'Diablo', 'Diamante', 'Discovery Series II',\n",
       "       'Discovery Sport', 'Discovery', 'DTS', 'Durango', 'Dynasty',\n",
       "       'E-150', 'E-250', 'E-Class', 'e-Golf', 'E-Series Van',\n",
       "       'E-Series Wagon', 'E55 AMG', 'ECHO', 'Eclipse Spyder', 'Eclipse',\n",
       "       'Edge', 'Eighty-Eight Royale', 'Eighty-Eight', 'Elantra Coupe',\n",
       "       'Elantra GT', 'Elantra Touring', 'Elantra', 'Eldorado', 'Electra',\n",
       "       'Element', 'Elise', 'Enclave', 'Encore', 'Endeavor', 'Entourage',\n",
       "       'Envision', 'Envoy XL', 'Envoy XUV', 'Envoy', 'Enzo', 'Eos',\n",
       "       'Equator', 'Equinox', 'Equus', 'ES 250', 'ES 300h', 'ES 300',\n",
       "       'ES 330', 'ES 350', 'Escalade ESV', 'Escalade EXT',\n",
       "       'Escalade Hybrid', 'Escalade', 'Escape Hybrid', 'Escape', 'Escort',\n",
       "       'Esprit', 'Estate Wagon', 'Esteem', 'EuroVan', 'Evora 400',\n",
       "       'Evora', 'EX35', 'Excel', 'Exige', 'EX', 'Expedition',\n",
       "       'Explorer Sport Trac', 'Explorer Sport', 'Explorer', 'Expo',\n",
       "       'Express Cargo', 'Express', 'F-150 Heritage',\n",
       "       'F-150 SVT Lightning', 'F-150', 'F-250', 'F12 Berlinetta', 'F430',\n",
       "       'Festiva', 'FF', 'Fiesta', 'Firebird', 'Fit EV', 'Fit',\n",
       "       'Five Hundred', 'FJ Cruiser', 'Fleetwood', 'Flex', 'Flying Spur',\n",
       "       'Focus RS', 'Focus ST', 'Focus', 'Forenza', 'Forester', 'Forte',\n",
       "       'Fox', 'FR-S', 'Freelander', 'Freestar', 'Freestyle', 'Frontier',\n",
       "       'Fusion Hybrid', 'Fusion', 'FX35', 'FX45', 'FX50', 'FX', 'G-Class',\n",
       "       'G Convertible', 'G Coupe', 'G Sedan', 'G20', 'G35',\n",
       "       'G37 Convertible', 'G37 Coupe', 'G37 Sedan', 'G37', 'G3', 'G5',\n",
       "       'G6', 'G80', 'G8', 'Galant', 'Gallardo', 'Genesis Coupe',\n",
       "       'Genesis', 'Ghibli', 'Ghost Series II', 'Ghost', 'GL-Class',\n",
       "       'GLA-Class', 'GLC-Class', 'GLE-Class Coupe', 'GLE-Class', 'GLI',\n",
       "       'GLK-Class', 'GLS-Class', 'Golf Alltrack', 'Golf GTI', 'Golf R',\n",
       "       'Golf SportWagen', 'Golf', 'Grand Am', 'Grand Caravan',\n",
       "       'Grand Prix', 'Grand Vitara', 'Grand Voyager', 'GranSport',\n",
       "       'GranTurismo Convertible', 'GranTurismo', 'GS 200t', 'GS 300',\n",
       "       'GS 350', 'GS 400', 'GS 430', 'GS 450h', 'GS 460', 'GS F', 'GT-R',\n",
       "       'GT', 'GTI', 'GTO', 'GX 460', 'GX 470', 'H3', 'H3T', 'HHR',\n",
       "       'Highlander Hybrid', 'Highlander', 'Horizon', 'HR-V', 'HS 250h',\n",
       "       'Huracan', 'i-MiEV', 'I30', 'I35', 'i3', 'iA', 'ILX Hybrid', 'ILX',\n",
       "       'Impala Limited', 'Impala', 'Imperial', 'Impreza WRX', 'Impreza',\n",
       "       'iM', 'Insight', 'Integra', 'Intrepid', 'Intrigue', 'iQ',\n",
       "       'IS 200t', 'IS 250 C', 'IS 250', 'IS 300', 'IS 350 C', 'IS 350',\n",
       "       'IS F', 'J30', 'Jetta GLI', 'Jetta Hybrid', 'Jetta SportWagen',\n",
       "       'Jetta', 'Jimmy', 'Journey', 'Juke', 'Justy', 'JX', 'K900',\n",
       "       'Kizashi', 'LaCrosse', 'Lancer Evolution', 'Lancer Sportback',\n",
       "       'Lancer', 'Land Cruiser', 'Landaulet', 'Laser', 'Le Baron',\n",
       "       'Le Mans', 'Leaf', 'Legacy', 'Legend', 'LeSabre', 'Levante', 'LFA',\n",
       "       'LHS', 'Loyale', 'LR2', 'LR3', 'LR4', 'LS 400', 'LS 430', 'LS 460',\n",
       "       'LS 600h L', 'LS', 'LSS', 'LTD Crown Victoria', 'Lucerne',\n",
       "       'Lumina Minivan', 'Lumina', 'LX 450', 'LX 470', 'LX 570',\n",
       "       'M-Class', 'M2', 'M30', 'M35', 'M37', 'M3', 'M4 GTS', 'M45', 'M4',\n",
       "       'M56', 'M5', 'M6 Gran Coupe', 'M6', 'Macan', 'Magnum',\n",
       "       'Malibu Classic', 'Malibu Hybrid', 'Malibu Limited', 'Malibu Maxx',\n",
       "       'Malibu', 'Mark LT', 'Mark VIII', 'Mark VII', 'Matrix', 'Maxima',\n",
       "       'Maybach', 'Mazdaspeed 3', 'Mazdaspeed 6', 'Mazdaspeed MX-5 Miata',\n",
       "       'Mazdaspeed Protege', 'M', 'MDX', 'Metris', 'Metro',\n",
       "       'Mighty Max Pickup', 'Millenia', 'Mirage G4', 'Mirage', 'MKC',\n",
       "       'MKS', 'MKT', 'MKX', 'MKZ Hybrid', 'MKZ', 'ML55 AMG', 'Model S',\n",
       "       'Monaco', 'Montana SV6', 'Montana', 'Monte Carlo', 'Montero Sport',\n",
       "       'Montero', 'MP4-12C', 'MPV', 'MR2 Spyder', 'MR2', 'Mulsanne',\n",
       "       'Murano CrossCabriolet', 'Murano', 'Murcielago',\n",
       "       'Mustang SVT Cobra', 'Mustang', 'MX-3', 'MX-5 Miata', 'MX-6',\n",
       "       'Navajo', 'Navigator', 'Neon', 'New Beetle', 'New Yorker',\n",
       "       'Ninety-Eight', 'Nitro', 'NSX', 'NV200', 'NX 200t', 'NX 300h',\n",
       "       'NX', 'Odyssey', 'Omni', 'Optima Hybrid', 'Optima', 'Outback',\n",
       "       'Outlander Sport', 'Outlander', 'Pacifica', 'Panamera',\n",
       "       'Park Avenue', 'Park Ward', 'Paseo', 'Passat', 'Passport',\n",
       "       'Pathfinder', 'Phaeton', 'Phantom Coupe', 'Phantom Drophead Coupe',\n",
       "       'Phantom', 'Pickup', 'Pilot', 'Precis', 'Prelude', 'Previa',\n",
       "       'Prius c', 'Prius Prime', 'Prius v', 'Prius', 'Prizm', 'Probe',\n",
       "       'Protege5', 'Protege', 'Prowler', 'PT Cruiser', 'Pulsar', 'Q3',\n",
       "       'Q40', 'Q45', 'Q50', 'Q5', 'Q60 Convertible', 'Q60 Coupe', 'Q70',\n",
       "       'Q7', 'Quattroporte', 'Quest', 'QX4', 'QX50', 'QX56', 'QX60',\n",
       "       'QX70', 'QX80', 'QX', 'R-Class', 'R32', 'R8', 'Rabbit', 'Raider',\n",
       "       'Rainier', 'Rally Wagon', 'RAM 150', 'RAM 250', 'Ram 50 Pickup',\n",
       "       'Ram Cargo', 'Ram Pickup 1500', 'Ram Van', 'Ram Wagon',\n",
       "       'Ramcharger', 'Range Rover Evoque', 'Range Rover Sport',\n",
       "       'Range Rover', 'Ranger', 'Rapide S', 'Rapide', 'RAV4 EV',\n",
       "       'RAV4 Hybrid', 'RAV4', 'RC 200t', 'RC 300', 'RC 350', 'RC F',\n",
       "       'RDX', 'Reatta', 'Regal', 'Regency', 'Rendezvous', 'Reno',\n",
       "       'Reventon', 'Ridgeline', 'Rio', 'Riviera', 'RL', 'RLX',\n",
       "       'Roadmaster', 'Rogue Select', 'Rogue', 'Rondo', 'Routan', 'RS 4',\n",
       "       'RS 5', 'RS 6', 'RS 7', 'RSX', 'RX 300', 'RX 330', 'RX 350',\n",
       "       'RX 400h', 'RX 450h', 'RX-7', 'RX-8', 'S-10 Blazer', 'S-10',\n",
       "       'S-15 Jimmy', 'S-15', 'S-Class', 'S2000', 'S3', 'S40', 'S4', 'S5',\n",
       "       'S60 Cross Country', 'S60', 'S6', 'S70', 'S7', 'S80', 'S8', 'S90',\n",
       "       'Safari Cargo', 'Safari', 'Samurai', 'Santa Fe Sport', 'Santa Fe',\n",
       "       'Savana Cargo', 'Savana', 'SC 300', 'SC 400', 'SC 430', 'Scoupe',\n",
       "       'Sebring', 'Sedona', 'Sentra', 'Sephia', 'Sequoia', 'Seville',\n",
       "       'Shadow', 'Shelby GT350', 'Shelby GT500', 'Sidekick', 'Sienna',\n",
       "       'Sierra 1500 Classic', 'Sierra 1500 Hybrid', 'Sierra 1500',\n",
       "       'Sierra 1500HD', 'Sierra C3', 'Sierra Classic 1500', 'Sigma',\n",
       "       'Silhouette', 'Silver Seraph', 'Silverado 1500 Classic',\n",
       "       'Silverado 1500 Hybrid', 'Silverado 1500', 'Sixty Special',\n",
       "       'Skylark', 'SL-Class', 'SLC-Class', 'SLK-Class', 'SLR McLaren',\n",
       "       'SLS AMG GT Final Edition', 'SLS AMG GT', 'SLS AMG', 'SLX',\n",
       "       'Solstice', 'Sonata Hybrid', 'Sonata', 'Sonic', 'Sonoma',\n",
       "       'Sorento', 'Soul EV', 'Soul', 'Spark EV', 'Spark', 'Spectra',\n",
       "       'Spirit', 'Sportage', 'Sportvan', 'Spyder', 'SQ5', 'SRT Viper',\n",
       "       'SRX', 'SS', 'SSR', 'Stanza', 'Stealth', 'Stratus', 'STS-V', 'STS',\n",
       "       'Suburban', 'Sunbird', 'Sundance', 'Sunfire', 'Superamerica',\n",
       "       'Supersports Convertible ISR', 'Supra', 'SVX', 'Swift', 'SX4',\n",
       "       'Syclone', 'T100', 'Tacoma', 'Tahoe Hybrid', 'Tahoe Limited/Z71',\n",
       "       'Tahoe', 'Taurus X', 'Taurus', 'TC', 'tC', 'Tempo', 'Tercel',\n",
       "       'Terrain', 'Terraza', 'Thunderbird', 'Tiburon', 'Tiguan', 'Titan',\n",
       "       'TL', 'TLX', 'Toronado', 'Torrent', 'Touareg 2', 'Touareg',\n",
       "       'Town and Country', 'Town Car', 'Tracker', 'TrailBlazer EXT',\n",
       "       'TrailBlazer', 'Trans Sport', 'Transit Connect', 'Transit Wagon',\n",
       "       'Traverse', 'Trax', 'Tribeca', 'Tribute Hybrid', 'Tribute',\n",
       "       'Truck', 'TSX Sport Wagon', 'TSX', 'TT RS', 'TT', 'TTS', 'Tucson',\n",
       "       'Tundra', 'Typhoon', 'Uplander', 'V12 Vanquish', 'V12 Vantage S',\n",
       "       'V12 Vantage', 'V40', 'V50', 'V60 Cross Country', 'V60', 'V70',\n",
       "       'V8 Vantage', 'V8', 'V90', 'Vanagon', 'Vandura', 'Van', 'Vanquish',\n",
       "       'Vanwagon', 'Veloster', 'Venture', 'Venza', 'Veracruz', 'Verano',\n",
       "       'Verona', 'Versa Note', 'Versa', 'Veyron 16.4', 'Vibe', 'Vigor',\n",
       "       'Viper', 'Virage', 'Vitara', 'Voyager', 'Windstar Cargo',\n",
       "       'Windstar', 'Wraith', 'WRX', 'X-90', 'X1', 'X3', 'X4', 'X5 M',\n",
       "       'X5', 'X6 M', 'X6', 'xA', 'xB', 'XC60', 'XC70', 'XC90', 'XC', 'xD',\n",
       "       'XG300', 'XG350', 'XL-7', 'XL7', 'XLR-V', 'XLR', 'XT5', 'Xterra',\n",
       "       'XTS', 'XT', 'XV Crosstrek', 'Yaris iA', 'Yaris', 'Yukon Denali',\n",
       "       'Yukon Hybrid', 'Yukon XL', 'Yukon', 'Z3', 'Z4 M', 'Z4', 'Z8',\n",
       "       'ZDX', 'Zephyr'], dtype=object)"
      ]
     },
     "execution_count": 56,
     "metadata": {},
     "output_type": "execute_result"
    }
   ],
   "source": [
    "df['Model'].unique()"
   ]
  },
  {
   "cell_type": "code",
   "execution_count": 57,
   "id": "d8254c2f",
   "metadata": {},
   "outputs": [
    {
     "data": {
      "text/plain": [
       "array(['BMW', 'Audi', 'FIAT', 'Mercedes-Benz', 'Chrysler', 'Nissan',\n",
       "       'Volvo', 'Mazda', 'Mitsubishi', 'Ferrari', 'Alfa Romeo', 'Toyota',\n",
       "       'McLaren', 'Maybach', 'Pontiac', 'Porsche', 'Saab', 'GMC',\n",
       "       'Hyundai', 'Plymouth', 'Honda', 'Oldsmobile', 'Suzuki', 'Ford',\n",
       "       'Cadillac', 'Kia', 'Bentley', 'Chevrolet', 'Dodge', 'Lamborghini',\n",
       "       'Lincoln', 'Subaru', 'Volkswagen', 'Spyker', 'Buick', 'Acura',\n",
       "       'Rolls-Royce', 'Maserati', 'Lexus', 'Aston Martin', 'Land Rover',\n",
       "       'Lotus', 'Infiniti', 'Scion', 'Genesis', 'HUMMER', 'Tesla',\n",
       "       'Bugatti'], dtype=object)"
      ]
     },
     "execution_count": 57,
     "metadata": {},
     "output_type": "execute_result"
    }
   ],
   "source": [
    "df['Make'].unique()"
   ]
  },
  {
   "cell_type": "code",
   "execution_count": 130,
   "id": "43a24077",
   "metadata": {},
   "outputs": [
    {
     "data": {
      "text/plain": [
       "34"
      ]
     },
     "execution_count": 130,
     "metadata": {},
     "output_type": "execute_result"
    }
   ],
   "source": [
    "len(df.loc[df['Make'] == 'Audi', 'Model'].unique())"
   ]
  },
  {
   "cell_type": "code",
   "execution_count": 131,
   "id": "7bfd0a77",
   "metadata": {},
   "outputs": [],
   "source": [
    "missing = df.isna().sum()"
   ]
  },
  {
   "cell_type": "code",
   "execution_count": 132,
   "id": "048aa43e",
   "metadata": {},
   "outputs": [
    {
     "data": {
      "text/plain": [
       "5"
      ]
     },
     "execution_count": 132,
     "metadata": {},
     "output_type": "execute_result"
    }
   ],
   "source": [
    "len(missing[missing > 0].index)"
   ]
  },
  {
   "cell_type": "code",
   "execution_count": 133,
   "id": "804e30c6",
   "metadata": {},
   "outputs": [
    {
     "data": {
      "text/plain": [
       "6.0"
      ]
     },
     "execution_count": 133,
     "metadata": {},
     "output_type": "execute_result"
    }
   ],
   "source": [
    "df[\"Engine Cylinders\"].median()"
   ]
  },
  {
   "cell_type": "code",
   "execution_count": 134,
   "id": "b91d74fa",
   "metadata": {},
   "outputs": [
    {
     "data": {
      "text/plain": [
       "0    4.0\n",
       "Name: Engine Cylinders, dtype: float64"
      ]
     },
     "execution_count": 134,
     "metadata": {},
     "output_type": "execute_result"
    }
   ],
   "source": [
    "df[\"Engine Cylinders\"].mode()"
   ]
  },
  {
   "cell_type": "code",
   "execution_count": 135,
   "id": "5e722b7f",
   "metadata": {},
   "outputs": [
    {
     "data": {
      "text/plain": [
       "4.0"
      ]
     },
     "execution_count": 135,
     "metadata": {},
     "output_type": "execute_result"
    }
   ],
   "source": [
    "df[\"Engine Cylinders\"].mode()[0]"
   ]
  },
  {
   "cell_type": "code",
   "execution_count": 136,
   "id": "b96ee4a9",
   "metadata": {},
   "outputs": [
    {
     "data": {
      "text/plain": [
       "30"
      ]
     },
     "execution_count": 136,
     "metadata": {},
     "output_type": "execute_result"
    }
   ],
   "source": [
    "df[\"Engine Cylinders\"].isnull().sum()"
   ]
  },
  {
   "cell_type": "code",
   "execution_count": 137,
   "id": "e3a9e200",
   "metadata": {},
   "outputs": [],
   "source": [
    "df[\"Engine Cylinders\"].fillna(df[\"Engine Cylinders\"].mode()[0], inplace= True)"
   ]
  },
  {
   "cell_type": "code",
   "execution_count": 138,
   "id": "4f582e20",
   "metadata": {},
   "outputs": [
    {
     "data": {
      "text/plain": [
       "6.0"
      ]
     },
     "execution_count": 138,
     "metadata": {},
     "output_type": "execute_result"
    }
   ],
   "source": [
    "df[\"Engine Cylinders\"].median()"
   ]
  },
  {
   "cell_type": "code",
   "execution_count": 139,
   "id": "d72758b9",
   "metadata": {},
   "outputs": [
    {
     "data": {
      "text/plain": [
       "0"
      ]
     },
     "execution_count": 139,
     "metadata": {},
     "output_type": "execute_result"
    }
   ],
   "source": [
    "df[\"Engine Cylinders\"].isnull().sum()"
   ]
  },
  {
   "cell_type": "code",
   "execution_count": 145,
   "id": "5baebc82",
   "metadata": {},
   "outputs": [],
   "source": [
    "df1 = df[df['Make'] == 'Lotus'][[ \"Engine HP\", \"Engine Cylinders\"]].reset_index(drop=True)"
   ]
  },
  {
   "cell_type": "code",
   "execution_count": 146,
   "id": "9292bc1a",
   "metadata": {},
   "outputs": [
    {
     "data": {
      "text/html": [
       "<div>\n",
       "<style scoped>\n",
       "    .dataframe tbody tr th:only-of-type {\n",
       "        vertical-align: middle;\n",
       "    }\n",
       "\n",
       "    .dataframe tbody tr th {\n",
       "        vertical-align: top;\n",
       "    }\n",
       "\n",
       "    .dataframe thead th {\n",
       "        text-align: right;\n",
       "    }\n",
       "</style>\n",
       "<table border=\"1\" class=\"dataframe\">\n",
       "  <thead>\n",
       "    <tr style=\"text-align: right;\">\n",
       "      <th></th>\n",
       "      <th>Engine HP</th>\n",
       "      <th>Engine Cylinders</th>\n",
       "    </tr>\n",
       "  </thead>\n",
       "  <tbody>\n",
       "    <tr>\n",
       "      <th>0</th>\n",
       "      <td>189.0</td>\n",
       "      <td>4.0</td>\n",
       "    </tr>\n",
       "    <tr>\n",
       "      <th>1</th>\n",
       "      <td>218.0</td>\n",
       "      <td>4.0</td>\n",
       "    </tr>\n",
       "    <tr>\n",
       "      <th>2</th>\n",
       "      <td>189.0</td>\n",
       "      <td>4.0</td>\n",
       "    </tr>\n",
       "    <tr>\n",
       "      <th>3</th>\n",
       "      <td>189.0</td>\n",
       "      <td>4.0</td>\n",
       "    </tr>\n",
       "    <tr>\n",
       "      <th>4</th>\n",
       "      <td>218.0</td>\n",
       "      <td>4.0</td>\n",
       "    </tr>\n",
       "    <tr>\n",
       "      <th>5</th>\n",
       "      <td>189.0</td>\n",
       "      <td>4.0</td>\n",
       "    </tr>\n",
       "    <tr>\n",
       "      <th>6</th>\n",
       "      <td>217.0</td>\n",
       "      <td>4.0</td>\n",
       "    </tr>\n",
       "    <tr>\n",
       "      <th>7</th>\n",
       "      <td>217.0</td>\n",
       "      <td>4.0</td>\n",
       "    </tr>\n",
       "    <tr>\n",
       "      <th>8</th>\n",
       "      <td>350.0</td>\n",
       "      <td>8.0</td>\n",
       "    </tr>\n",
       "    <tr>\n",
       "      <th>9</th>\n",
       "      <td>350.0</td>\n",
       "      <td>8.0</td>\n",
       "    </tr>\n",
       "    <tr>\n",
       "      <th>10</th>\n",
       "      <td>350.0</td>\n",
       "      <td>8.0</td>\n",
       "    </tr>\n",
       "    <tr>\n",
       "      <th>11</th>\n",
       "      <td>400.0</td>\n",
       "      <td>6.0</td>\n",
       "    </tr>\n",
       "    <tr>\n",
       "      <th>12</th>\n",
       "      <td>400.0</td>\n",
       "      <td>6.0</td>\n",
       "    </tr>\n",
       "    <tr>\n",
       "      <th>13</th>\n",
       "      <td>276.0</td>\n",
       "      <td>6.0</td>\n",
       "    </tr>\n",
       "    <tr>\n",
       "      <th>14</th>\n",
       "      <td>276.0</td>\n",
       "      <td>6.0</td>\n",
       "    </tr>\n",
       "    <tr>\n",
       "      <th>15</th>\n",
       "      <td>276.0</td>\n",
       "      <td>6.0</td>\n",
       "    </tr>\n",
       "    <tr>\n",
       "      <th>16</th>\n",
       "      <td>345.0</td>\n",
       "      <td>6.0</td>\n",
       "    </tr>\n",
       "    <tr>\n",
       "      <th>17</th>\n",
       "      <td>345.0</td>\n",
       "      <td>6.0</td>\n",
       "    </tr>\n",
       "    <tr>\n",
       "      <th>18</th>\n",
       "      <td>276.0</td>\n",
       "      <td>6.0</td>\n",
       "    </tr>\n",
       "    <tr>\n",
       "      <th>19</th>\n",
       "      <td>345.0</td>\n",
       "      <td>6.0</td>\n",
       "    </tr>\n",
       "    <tr>\n",
       "      <th>20</th>\n",
       "      <td>276.0</td>\n",
       "      <td>6.0</td>\n",
       "    </tr>\n",
       "    <tr>\n",
       "      <th>21</th>\n",
       "      <td>345.0</td>\n",
       "      <td>6.0</td>\n",
       "    </tr>\n",
       "    <tr>\n",
       "      <th>22</th>\n",
       "      <td>276.0</td>\n",
       "      <td>6.0</td>\n",
       "    </tr>\n",
       "    <tr>\n",
       "      <th>23</th>\n",
       "      <td>257.0</td>\n",
       "      <td>4.0</td>\n",
       "    </tr>\n",
       "    <tr>\n",
       "      <th>24</th>\n",
       "      <td>240.0</td>\n",
       "      <td>4.0</td>\n",
       "    </tr>\n",
       "    <tr>\n",
       "      <th>25</th>\n",
       "      <td>240.0</td>\n",
       "      <td>4.0</td>\n",
       "    </tr>\n",
       "    <tr>\n",
       "      <th>26</th>\n",
       "      <td>240.0</td>\n",
       "      <td>4.0</td>\n",
       "    </tr>\n",
       "    <tr>\n",
       "      <th>27</th>\n",
       "      <td>257.0</td>\n",
       "      <td>4.0</td>\n",
       "    </tr>\n",
       "    <tr>\n",
       "      <th>28</th>\n",
       "      <td>257.0</td>\n",
       "      <td>4.0</td>\n",
       "    </tr>\n",
       "  </tbody>\n",
       "</table>\n",
       "</div>"
      ],
      "text/plain": [
       "    Engine HP  Engine Cylinders\n",
       "0       189.0               4.0\n",
       "1       218.0               4.0\n",
       "2       189.0               4.0\n",
       "3       189.0               4.0\n",
       "4       218.0               4.0\n",
       "5       189.0               4.0\n",
       "6       217.0               4.0\n",
       "7       217.0               4.0\n",
       "8       350.0               8.0\n",
       "9       350.0               8.0\n",
       "10      350.0               8.0\n",
       "11      400.0               6.0\n",
       "12      400.0               6.0\n",
       "13      276.0               6.0\n",
       "14      276.0               6.0\n",
       "15      276.0               6.0\n",
       "16      345.0               6.0\n",
       "17      345.0               6.0\n",
       "18      276.0               6.0\n",
       "19      345.0               6.0\n",
       "20      276.0               6.0\n",
       "21      345.0               6.0\n",
       "22      276.0               6.0\n",
       "23      257.0               4.0\n",
       "24      240.0               4.0\n",
       "25      240.0               4.0\n",
       "26      240.0               4.0\n",
       "27      257.0               4.0\n",
       "28      257.0               4.0"
      ]
     },
     "execution_count": 146,
     "metadata": {},
     "output_type": "execute_result"
    }
   ],
   "source": [
    "df1"
   ]
  },
  {
   "cell_type": "code",
   "execution_count": 149,
   "id": "b30850e8",
   "metadata": {},
   "outputs": [
    {
     "data": {
      "text/plain": [
       "20"
      ]
     },
     "execution_count": 149,
     "metadata": {},
     "output_type": "execute_result"
    }
   ],
   "source": [
    "df1.duplicated().sum()"
   ]
  },
  {
   "cell_type": "code",
   "execution_count": 151,
   "id": "2f1934c7",
   "metadata": {},
   "outputs": [],
   "source": [
    "x = df1.drop_duplicates()"
   ]
  },
  {
   "cell_type": "code",
   "execution_count": 154,
   "id": "d00033a3",
   "metadata": {},
   "outputs": [
    {
     "data": {
      "text/html": [
       "<div>\n",
       "<style scoped>\n",
       "    .dataframe tbody tr th:only-of-type {\n",
       "        vertical-align: middle;\n",
       "    }\n",
       "\n",
       "    .dataframe tbody tr th {\n",
       "        vertical-align: top;\n",
       "    }\n",
       "\n",
       "    .dataframe thead th {\n",
       "        text-align: right;\n",
       "    }\n",
       "</style>\n",
       "<table border=\"1\" class=\"dataframe\">\n",
       "  <thead>\n",
       "    <tr style=\"text-align: right;\">\n",
       "      <th></th>\n",
       "      <th>Engine HP</th>\n",
       "      <th>Engine Cylinders</th>\n",
       "    </tr>\n",
       "  </thead>\n",
       "  <tbody>\n",
       "    <tr>\n",
       "      <th>0</th>\n",
       "      <td>189.0</td>\n",
       "      <td>4.0</td>\n",
       "    </tr>\n",
       "    <tr>\n",
       "      <th>1</th>\n",
       "      <td>218.0</td>\n",
       "      <td>4.0</td>\n",
       "    </tr>\n",
       "    <tr>\n",
       "      <th>6</th>\n",
       "      <td>217.0</td>\n",
       "      <td>4.0</td>\n",
       "    </tr>\n",
       "    <tr>\n",
       "      <th>8</th>\n",
       "      <td>350.0</td>\n",
       "      <td>8.0</td>\n",
       "    </tr>\n",
       "    <tr>\n",
       "      <th>11</th>\n",
       "      <td>400.0</td>\n",
       "      <td>6.0</td>\n",
       "    </tr>\n",
       "    <tr>\n",
       "      <th>13</th>\n",
       "      <td>276.0</td>\n",
       "      <td>6.0</td>\n",
       "    </tr>\n",
       "    <tr>\n",
       "      <th>16</th>\n",
       "      <td>345.0</td>\n",
       "      <td>6.0</td>\n",
       "    </tr>\n",
       "    <tr>\n",
       "      <th>23</th>\n",
       "      <td>257.0</td>\n",
       "      <td>4.0</td>\n",
       "    </tr>\n",
       "    <tr>\n",
       "      <th>24</th>\n",
       "      <td>240.0</td>\n",
       "      <td>4.0</td>\n",
       "    </tr>\n",
       "  </tbody>\n",
       "</table>\n",
       "</div>"
      ],
      "text/plain": [
       "    Engine HP  Engine Cylinders\n",
       "0       189.0               4.0\n",
       "1       218.0               4.0\n",
       "6       217.0               4.0\n",
       "8       350.0               8.0\n",
       "11      400.0               6.0\n",
       "13      276.0               6.0\n",
       "16      345.0               6.0\n",
       "23      257.0               4.0\n",
       "24      240.0               4.0"
      ]
     },
     "execution_count": 154,
     "metadata": {},
     "output_type": "execute_result"
    }
   ],
   "source": [
    "x"
   ]
  },
  {
   "cell_type": "code",
   "execution_count": null,
   "id": "58dd05bf",
   "metadata": {},
   "outputs": [],
   "source": []
  },
  {
   "cell_type": "code",
   "execution_count": null,
   "id": "fed47005",
   "metadata": {},
   "outputs": [],
   "source": []
  }
 ],
 "metadata": {
  "kernelspec": {
   "display_name": "Python 3 (ipykernel)",
   "language": "python",
   "name": "python3"
  },
  "language_info": {
   "codemirror_mode": {
    "name": "ipython",
    "version": 3
   },
   "file_extension": ".py",
   "mimetype": "text/x-python",
   "name": "python",
   "nbconvert_exporter": "python",
   "pygments_lexer": "ipython3",
   "version": "3.9.10"
  }
 },
 "nbformat": 4,
 "nbformat_minor": 5
}
